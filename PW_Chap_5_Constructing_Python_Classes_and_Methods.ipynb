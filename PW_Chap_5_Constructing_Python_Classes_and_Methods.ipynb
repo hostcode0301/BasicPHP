{
  "nbformat": 4,
  "nbformat_minor": 0,
  "metadata": {
    "colab": {
      "name": "PW: Chap 5 - Constructing Python - Classes and Methods",
      "provenance": [],
      "collapsed_sections": [],
      "authorship_tag": "ABX9TyMhZMSPKokFu/bSj89A1rjw",
      "include_colab_link": true
    },
    "kernelspec": {
      "name": "python3",
      "display_name": "Python 3"
    },
    "language_info": {
      "name": "python"
    }
  },
  "cells": [
    {
      "cell_type": "markdown",
      "metadata": {
        "id": "view-in-github",
        "colab_type": "text"
      },
      "source": [
        "<a href=\"https://colab.research.google.com/github/hostcode0301/BasicPHP/blob/main/PW_Chap_5_Constructing_Python_Classes_and_Methods.ipynb\" target=\"_parent\"><img src=\"https://colab.research.google.com/assets/colab-badge.svg\" alt=\"Open In Colab\"/></a>"
      ]
    },
    {
      "cell_type": "markdown",
      "source": [
        "# Constructing Python - Classes and Methods"
      ],
      "metadata": {
        "id": "5BU2S8ldGafg"
      }
    },
    {
      "cell_type": "markdown",
      "source": [
        "## Classes and Objects"
      ],
      "metadata": {
        "id": "c5i8pgguGkEs"
      }
    },
    {
      "cell_type": "markdown",
      "source": [
        "Classes are fundamental to object-oriented programming languages such as Python.\n",
        "A class is simply a template for creating objects. Classes define an object's various\n",
        "properties and specify the things you can do with that object"
      ],
      "metadata": {
        "id": "H0u12gv-V7T-"
      }
    },
    {
      "cell_type": "code",
      "source": [
        "my_str = \"Majo no tabitabi\"\n",
        "type(my_str)"
      ],
      "metadata": {
        "colab": {
          "base_uri": "https://localhost:8080/"
        },
        "id": "xkMN5if5WABF",
        "outputId": "a8dbbd49-50b1-4148-aea5-07a7f0c6b3f8"
      },
      "execution_count": null,
      "outputs": [
        {
          "output_type": "execute_result",
          "data": {
            "text/plain": [
              "str"
            ]
          },
          "metadata": {},
          "execution_count": 1
        }
      ]
    },
    {
      "cell_type": "code",
      "source": [
        "# View the docstring of the str class\n",
        "print(my_str.__doc__)"
      ],
      "metadata": {
        "colab": {
          "base_uri": "https://localhost:8080/"
        },
        "id": "crCudM6OW69i",
        "outputId": "349cc482-b4ab-487e-9364-bdfa060fbd4f"
      },
      "execution_count": null,
      "outputs": [
        {
          "output_type": "stream",
          "name": "stdout",
          "text": [
            "str(object='') -> str\n",
            "str(bytes_or_buffer[, encoding[, errors]]) -> str\n",
            "\n",
            "Create a new string object from the given object. If encoding or\n",
            "errors is specified, then the object must expose a data buffer\n",
            "that will be decoded using the given encoding and error handler.\n",
            "Otherwise, returns the result of object.__str__() (if defined)\n",
            "or repr(object).\n",
            "encoding defaults to sys.getdefaultencoding().\n",
            "errors defaults to 'strict'.\n"
          ]
        }
      ]
    },
    {
      "cell_type": "code",
      "source": [
        "# View full list of properties and methods of my_str\n",
        "my_str.__dir__()"
      ],
      "metadata": {
        "colab": {
          "base_uri": "https://localhost:8080/"
        },
        "id": "Y_d0o_9FXA7s",
        "outputId": "e0ecf53e-fb3d-4feb-da5f-839fd613fce8"
      },
      "execution_count": null,
      "outputs": [
        {
          "output_type": "execute_result",
          "data": {
            "text/plain": [
              "['__repr__',\n",
              " '__hash__',\n",
              " '__str__',\n",
              " '__getattribute__',\n",
              " '__lt__',\n",
              " '__le__',\n",
              " '__eq__',\n",
              " '__ne__',\n",
              " '__gt__',\n",
              " '__ge__',\n",
              " '__iter__',\n",
              " '__mod__',\n",
              " '__rmod__',\n",
              " '__len__',\n",
              " '__getitem__',\n",
              " '__add__',\n",
              " '__mul__',\n",
              " '__rmul__',\n",
              " '__contains__',\n",
              " '__new__',\n",
              " 'encode',\n",
              " 'replace',\n",
              " 'split',\n",
              " 'rsplit',\n",
              " 'join',\n",
              " 'capitalize',\n",
              " 'casefold',\n",
              " 'title',\n",
              " 'center',\n",
              " 'count',\n",
              " 'expandtabs',\n",
              " 'find',\n",
              " 'partition',\n",
              " 'index',\n",
              " 'ljust',\n",
              " 'lower',\n",
              " 'lstrip',\n",
              " 'rfind',\n",
              " 'rindex',\n",
              " 'rjust',\n",
              " 'rstrip',\n",
              " 'rpartition',\n",
              " 'splitlines',\n",
              " 'strip',\n",
              " 'swapcase',\n",
              " 'translate',\n",
              " 'upper',\n",
              " 'startswith',\n",
              " 'endswith',\n",
              " 'isascii',\n",
              " 'islower',\n",
              " 'isupper',\n",
              " 'istitle',\n",
              " 'isspace',\n",
              " 'isdecimal',\n",
              " 'isdigit',\n",
              " 'isnumeric',\n",
              " 'isalpha',\n",
              " 'isalnum',\n",
              " 'isidentifier',\n",
              " 'isprintable',\n",
              " 'zfill',\n",
              " 'format',\n",
              " 'format_map',\n",
              " '__format__',\n",
              " 'maketrans',\n",
              " '__sizeof__',\n",
              " '__getnewargs__',\n",
              " '__doc__',\n",
              " '__setattr__',\n",
              " '__delattr__',\n",
              " '__init__',\n",
              " '__reduce_ex__',\n",
              " '__reduce__',\n",
              " '__subclasshook__',\n",
              " '__init_subclass__',\n",
              " '__dir__',\n",
              " '__class__']"
            ]
          },
          "metadata": {},
          "execution_count": 4
        }
      ]
    },
    {
      "cell_type": "markdown",
      "source": [
        "## Defining Classes"
      ],
      "metadata": {
        "id": "wMSI-KnQXOdD"
      }
    },
    {
      "cell_type": "markdown",
      "source": [
        "Built-in classes and classes imported from Python packages are sometimes sufficient\n",
        "for our requirements. However, often you want to invent a new type of object because\n",
        "there isn't an object in the standard libraries that has the properties/methods that you\n",
        "require. Recall that a class is like a template for creating a new object."
      ],
      "metadata": {
        "id": "t441zW61XrWh"
      }
    },
    {
      "cell_type": "code",
      "source": [
        "# Declare a class\n",
        "class LightNovel():\n",
        "  \"\"\"\n",
        "  A class to store a light novel details\n",
        "  \"\"\"\n",
        "  is_fav = True\n",
        "  name = \"Default name\""
      ],
      "metadata": {
        "id": "6-b1bMA2ZPao"
      },
      "execution_count": null,
      "outputs": []
    },
    {
      "cell_type": "code",
      "source": [
        "eighty_six = LightNovel()\n",
        "type(eighty_six)"
      ],
      "metadata": {
        "colab": {
          "base_uri": "https://localhost:8080/"
        },
        "id": "mJ7sTuHaZeHF",
        "outputId": "ec610351-4cf4-44a5-f0ba-33d5084e070f"
      },
      "execution_count": null,
      "outputs": [
        {
          "output_type": "execute_result",
          "data": {
            "text/plain": [
              "__main__.LightNovel"
            ]
          },
          "metadata": {},
          "execution_count": 9
        }
      ]
    },
    {
      "cell_type": "code",
      "source": [
        "eighty_six.is_fav"
      ],
      "metadata": {
        "colab": {
          "base_uri": "https://localhost:8080/"
        },
        "id": "qHrBOZdIZma1",
        "outputId": "b95ea440-25ca-48fa-9197-62d8c3c30613"
      },
      "execution_count": null,
      "outputs": [
        {
          "output_type": "execute_result",
          "data": {
            "text/plain": [
              "True"
            ]
          },
          "metadata": {},
          "execution_count": 10
        }
      ]
    },
    {
      "cell_type": "code",
      "source": [
        "eighty_six.__doc__"
      ],
      "metadata": {
        "colab": {
          "base_uri": "https://localhost:8080/",
          "height": 35
        },
        "id": "IPi7VE1VZsIQ",
        "outputId": "2033370f-9f2f-4261-dba0-01919fb3c65f"
      },
      "execution_count": null,
      "outputs": [
        {
          "output_type": "execute_result",
          "data": {
            "text/plain": [
              "'\\n  A class to store a light novel details\\n  '"
            ],
            "application/vnd.google.colaboratory.intrinsic+json": {
              "type": "string"
            }
          },
          "metadata": {},
          "execution_count": 13
        }
      ]
    },
    {
      "cell_type": "markdown",
      "source": [
        "## The __init__ method"
      ],
      "metadata": {
        "id": "2GxuU6rWfGyf"
      }
    },
    {
      "cell_type": "markdown",
      "source": [
        "Python has a special method called __init__, which is called when you initialize an\n",
        "object from one of our class templates. "
      ],
      "metadata": {
        "id": "-gaKqkp7fjhL"
      }
    },
    {
      "cell_type": "code",
      "source": [
        "# Declare a class\n",
        "class LightNovel():\n",
        "  \"\"\"\n",
        "  A class to store a light novel details\n",
        "  \"\"\"\n",
        "\n",
        "  is_fav = True\n",
        "\n",
        "  def __init__(self, name):\n",
        "    self.name = name"
      ],
      "metadata": {
        "id": "ZOnZE9IFgUdt"
      },
      "execution_count": null,
      "outputs": []
    },
    {
      "cell_type": "code",
      "source": [
        "majo_tabi = LightNovel(name = \"Majo no tabi tabi\")\n",
        "majo_tabi.name"
      ],
      "metadata": {
        "colab": {
          "base_uri": "https://localhost:8080/",
          "height": 35
        },
        "id": "jK1eRsuQgsdB",
        "outputId": "06924663-1ed8-4b04-a5e4-b42cc29ba64f"
      },
      "execution_count": null,
      "outputs": [
        {
          "output_type": "execute_result",
          "data": {
            "text/plain": [
              "'Majo no tabi tabi'"
            ],
            "application/vnd.google.colaboratory.intrinsic+json": {
              "type": "string"
            }
          },
          "metadata": {},
          "execution_count": 19
        }
      ]
    },
    {
      "cell_type": "markdown",
      "source": [
        "Function in Python has two types of arguments: **positional** and **keyword** arguments and that can also be used in init method"
      ],
      "metadata": {
        "id": "UsvimBJyg0kE"
      }
    },
    {
      "cell_type": "code",
      "source": [
        "# Declare a class\n",
        "class LightNovel():\n",
        "  \"\"\"\n",
        "  A class to store a light novel details\n",
        "  \"\"\"\n",
        "\n",
        "  is_fav = True\n",
        "\n",
        "  def __init__(self, name, page_no = 100):\n",
        "    self.name = name\n",
        "    self.page_no = page_no"
      ],
      "metadata": {
        "id": "vPk7J7I8hY8C"
      },
      "execution_count": null,
      "outputs": []
    },
    {
      "cell_type": "code",
      "source": [
        "eighty_six = LightNovel(\"Eighty Six\")\n",
        "eighty_six.page_no"
      ],
      "metadata": {
        "colab": {
          "base_uri": "https://localhost:8080/"
        },
        "id": "r-lI1M-HhexM",
        "outputId": "285dde04-c599-4569-ad9b-1f9d1956b1fb"
      },
      "execution_count": null,
      "outputs": [
        {
          "output_type": "execute_result",
          "data": {
            "text/plain": [
              "100"
            ]
          },
          "metadata": {},
          "execution_count": 21
        }
      ]
    },
    {
      "cell_type": "code",
      "source": [
        "majo_tabi = LightNovel(\"Majo no tabi tabi\", page_no=200)\n",
        "majo_tabi.page_no"
      ],
      "metadata": {
        "colab": {
          "base_uri": "https://localhost:8080/"
        },
        "id": "LPAbli2hhpJQ",
        "outputId": "b0dcf4d8-0490-49ce-e8d1-f207a10781f0"
      },
      "execution_count": null,
      "outputs": [
        {
          "output_type": "execute_result",
          "data": {
            "text/plain": [
              "200"
            ]
          },
          "metadata": {},
          "execution_count": 22
        }
      ]
    },
    {
      "cell_type": "markdown",
      "source": [
        "## Methods"
      ],
      "metadata": {
        "id": "j8QRHs-hhy4w"
      }
    },
    {
      "cell_type": "markdown",
      "source": [
        "You have already come across one special method, the init method. However, the\n",
        "power of classes will start to become more obvious to you as you begin writing our own\n",
        "custom methods. There are three types of methods you will explore in the following\n",
        "sections:\n",
        "- Instance methods\n",
        "- Static methods\n",
        "- Class methods"
      ],
      "metadata": {
        "id": "n8dvc8s3iNoR"
      }
    },
    {
      "cell_type": "markdown",
      "source": [
        "### 1. Instance methods\n"
      ],
      "metadata": {
        "id": "bLiX0yHkifPA"
      }
    },
    {
      "cell_type": "code",
      "source": [
        "# Declare class Circle \n",
        "import math\n",
        "class Circle():\n",
        "  is_shape = True\n",
        "  def __init__(self, radius, color='red'):\n",
        "    self.radius = radius\n",
        "    self.color = color\n",
        "  def area(self):\n",
        "    return math.pi * self.radius ** 2\n",
        "\n",
        "first_circle = Circle(3)\n",
        "first_circle.area()"
      ],
      "metadata": {
        "colab": {
          "base_uri": "https://localhost:8080/"
        },
        "id": "YM9QiQ0jjG4r",
        "outputId": "a776bc1e-7bc4-4610-869e-561eea72e99b"
      },
      "execution_count": null,
      "outputs": [
        {
          "output_type": "execute_result",
          "data": {
            "text/plain": [
              "28.274333882308138"
            ]
          },
          "metadata": {},
          "execution_count": 23
        }
      ]
    },
    {
      "cell_type": "markdown",
      "source": [
        "The **self** represents the instance (that is, the object)\n",
        "within the method. This is always the first positional argument of an instance method,\n",
        "and Python passes it to the function without you needing to do anything. So, in the\n",
        "preceding example, when you call the area function, behind the scenes, Python passes\n",
        "the circle object through as the first argument."
      ],
      "metadata": {
        "id": "yohK7bbkjS6o"
      }
    },
    {
      "cell_type": "markdown",
      "source": [
        "#### The str method"
      ],
      "metadata": {
        "id": "5MAjTBREjbfE"
      }
    },
    {
      "cell_type": "code",
      "source": [
        "# Declare a class\n",
        "class LightNovel():\n",
        "  \"\"\"\n",
        "  A class to store a light novel details\n",
        "  \"\"\"\n",
        "\n",
        "  is_fav = True\n",
        "\n",
        "  def __init__(self, name, page_no = 100):\n",
        "    self.name = name\n",
        "    self.page_no = page_no\n",
        "  \n",
        "  def __str__(self):\n",
        "    return 'Light novel name: %s' % (self.name)\n",
        "\n",
        "majo_tabi = LightNovel(\"Majo no tabi tabi\")\n",
        "print(majo_tabi)"
      ],
      "metadata": {
        "colab": {
          "base_uri": "https://localhost:8080/"
        },
        "id": "DSFDr_RJrz1W",
        "outputId": "743b4924-1d3a-4291-eba1-4fd34c40c8ec"
      },
      "execution_count": null,
      "outputs": [
        {
          "output_type": "stream",
          "name": "stdout",
          "text": [
            "Light novel name: Majo no tabi tabi\n"
          ]
        }
      ]
    },
    {
      "cell_type": "markdown",
      "source": [
        "### 2. Static methods"
      ],
      "metadata": {
        "id": "TIDEld5ds6ej"
      }
    },
    {
      "cell_type": "markdown",
      "source": [
        "Static methods are similar to instance methods, except that they do not implicitly pass\n",
        "the positional self argument. Static methods aren't used as frequently as instance\n",
        "methods, so they only warrant a brief mention here. Static methods are defined\n",
        "by using the **@staticmethod** decorator. Decorators allow us to alter the behavior of\n",
        "functions and classes."
      ],
      "metadata": {
        "id": "i9Pxlv1-tV_Z"
      }
    },
    {
      "cell_type": "code",
      "source": [
        "# Declare a class\n",
        "class LightNovel():\n",
        "  \"\"\"\n",
        "  A class to store a light novel details\n",
        "  \"\"\"\n",
        "\n",
        "  is_fav = True\n",
        "\n",
        "  def __init__(self, name, page_no = 100):\n",
        "    self.name = name\n",
        "    self.page_no = page_no\n",
        "  \n",
        "  def __str__(self):\n",
        "    return 'Light novel name: %s' % (self.name)\n",
        "\n",
        "  @staticmethod\n",
        "  def is_fave_novel():\n",
        "    return LightNovel.is_fav\n",
        "\n",
        "majo_tabi = LightNovel(\"Majo no tabi tabi\")\n",
        "majo_tabi.is_fave_novel()"
      ],
      "metadata": {
        "colab": {
          "base_uri": "https://localhost:8080/"
        },
        "id": "Z9_aJ7AavxR_",
        "outputId": "0c96f8ed-8e15-4537-ad61-7a82f6ad4adf"
      },
      "execution_count": null,
      "outputs": [
        {
          "output_type": "execute_result",
          "data": {
            "text/plain": [
              "True"
            ]
          },
          "metadata": {},
          "execution_count": 27
        }
      ]
    },
    {
      "cell_type": "markdown",
      "source": [
        "### 3. Class methods"
      ],
      "metadata": {
        "id": "tBAtVnz0wOha"
      }
    },
    {
      "cell_type": "markdown",
      "source": [
        "The third type of method you will explore is class methods. Class methods are like\n",
        "instance methods, except that instead of the instance of an object being passed as the\n",
        "first positional self argument, the class itself is passed as the first argument. As with\n",
        "static methods, you use a decorator to designate a class method."
      ],
      "metadata": {
        "id": "uWfJppntxJDA"
      }
    },
    {
      "cell_type": "code",
      "source": [
        "# Declare a class\n",
        "class LightNovel():\n",
        "  \"\"\"\n",
        "  A class to store a light novel details\n",
        "  \"\"\"\n",
        "\n",
        "  is_fav = True\n",
        "\n",
        "  def __init__(self, name, page_no = 100):\n",
        "    self.name = name\n",
        "    self.page_no = page_no\n",
        "  \n",
        "  def __str__(self):\n",
        "    return 'Light novel name: %s' % (self.name)\n",
        "\n",
        "  @classmethod\n",
        "  def is_fave_novel(cls):\n",
        "    return cls.is_fav\n",
        "\n",
        "majo_tabi = LightNovel(\"Majo no tabi tabi\")\n",
        "majo_tabi.is_fave_novel()"
      ],
      "metadata": {
        "colab": {
          "base_uri": "https://localhost:8080/"
        },
        "id": "r0sfTvInxtZt",
        "outputId": "229a29c8-6848-420c-dd63-84b8eee3f336"
      },
      "execution_count": null,
      "outputs": [
        {
          "output_type": "execute_result",
          "data": {
            "text/plain": [
              "True"
            ]
          },
          "metadata": {},
          "execution_count": 28
        }
      ]
    },
    {
      "cell_type": "markdown",
      "source": [
        "## Properties"
      ],
      "metadata": {
        "id": "Mf9FjrFmx1Zo"
      }
    },
    {
      "cell_type": "markdown",
      "source": [
        "Properties are used to manage the attributes of objects. They are an important and\n",
        "powerful aspect of object-oriented programming but can be challenging to grasp at\n",
        "first. For example, suppose you have an object that has a height attribute and a width\n",
        "attribute. You might also want such an object to have an area property, which is simply\n",
        "the product of the height and width attributes. You would prefer not to save the area as\n",
        "an attribute of the shape because the area should update whenever the height or width\n",
        "changes. In this sort of scenario, you will want to use a property."
      ],
      "metadata": {
        "id": "UXGh757pKTzd"
      }
    },
    {
      "cell_type": "markdown",
      "source": [
        "### 1. Property Decorator"
      ],
      "metadata": {
        "id": "t1kWFhAtKvLc"
      }
    },
    {
      "cell_type": "markdown",
      "source": [
        "The property decorator looks similar to the static methods and class methods that you\n",
        "have already encountered. It simply allows a method to be accessed as an attribute of\n",
        "an object rather than needing to call it like a function with ()"
      ],
      "metadata": {
        "id": "VuDjSNggK2za"
      }
    },
    {
      "cell_type": "code",
      "source": [
        "class Temperature():\n",
        "  def __init__(self, celsius):\n",
        "    self.celsius = celsius\n",
        "  \n",
        "  @property\n",
        "  def fahrenheit(self):\n",
        "    return self.celsius * 9 / 5 + 32"
      ],
      "metadata": {
        "id": "ZLiOlnjWK71n"
      },
      "execution_count": 1,
      "outputs": []
    },
    {
      "cell_type": "code",
      "source": [
        "freezing = Temperature(1)\n",
        "freezing.fahrenheit"
      ],
      "metadata": {
        "colab": {
          "base_uri": "https://localhost:8080/"
        },
        "id": "GRGisLX9LYyZ",
        "outputId": "0dbf4568-304c-4904-8f40-9ac58f724d9b"
      },
      "execution_count": 2,
      "outputs": [
        {
          "output_type": "execute_result",
          "data": {
            "text/plain": [
              "33.8"
            ]
          },
          "metadata": {},
          "execution_count": 2
        }
      ]
    },
    {
      "cell_type": "markdown",
      "source": [
        "### 2. Setter"
      ],
      "metadata": {
        "id": "jnoX7tszLfOl"
      }
    },
    {
      "cell_type": "markdown",
      "source": [
        "The setter method will be called whenever a user assigns a value to a property. This will\n",
        "allow us to write code where the user doesn't need to think about which attributes of\n",
        "an object are stored as instance attributes rather than computed by functions."
      ],
      "metadata": {
        "id": "dwwcq0i2Lrg2"
      }
    },
    {
      "cell_type": "code",
      "source": [
        "class Person():\n",
        "  def __init__(self, first_name, last_name):\n",
        "    self.first_name = first_name\n",
        "    self.last_name = last_name\n",
        "  \n",
        "  @property\n",
        "  def full_name(self):\n",
        "    return '%s %s' % (self.first_name, self.last_name)\n",
        "  \n",
        "  @full_name.setter\n",
        "  def full_name(self, name):\n",
        "    first, last = name.split(' ')\n",
        "    self.first_name = first\n",
        "    self.last_name = last"
      ],
      "metadata": {
        "id": "jjAa7DQ8LuUr"
      },
      "execution_count": 3,
      "outputs": []
    },
    {
      "cell_type": "code",
      "source": [
        "character = Person('Chtholly', 'Nota Seniorius')\n",
        "character.full_name = \"Chtholly Seniorius\"\n",
        "character.last_name"
      ],
      "metadata": {
        "colab": {
          "base_uri": "https://localhost:8080/",
          "height": 35
        },
        "id": "DBzEsZ5jMhgO",
        "outputId": "414804c3-7fb3-4af1-d9c6-7c871bf962b2"
      },
      "execution_count": 7,
      "outputs": [
        {
          "output_type": "execute_result",
          "data": {
            "text/plain": [
              "'Seniorius'"
            ],
            "application/vnd.google.colaboratory.intrinsic+json": {
              "type": "string"
            }
          },
          "metadata": {},
          "execution_count": 7
        }
      ]
    },
    {
      "cell_type": "markdown",
      "source": [
        "### 3. Validation via the Setter Method"
      ],
      "metadata": {
        "id": "OqOYqzlpM0LX"
      }
    },
    {
      "cell_type": "markdown",
      "source": [
        "Another common use of the setter method is to prevent the user from setting values\n",
        "that shouldn't be allowed. If you consider our previous example with the Temperature\n",
        "class, the minimum temperature theoretically possible is approximately -460 degrees\n",
        "Fahrenheit."
      ],
      "metadata": {
        "id": "GmU3z2BUNOxI"
      }
    },
    {
      "cell_type": "code",
      "source": [
        "class Temperature():\n",
        "  def __init__(self, celsius):\n",
        "    self.celsius = celsius\n",
        "  \n",
        "  @property\n",
        "  def fahrenheit(self):\n",
        "    return self.celsius * 9 / 5 + 32\n",
        "\n",
        "  @fahrenheit.setter\n",
        "  def fahrenheit(self, value):\n",
        "    if (value < -460):\n",
        "      raise ValueError('Temperatures less than -460F are not possible')\n",
        "    self.celsius = (value - 32) * 5 / 9"
      ],
      "metadata": {
        "id": "zV3O5x1HNri9"
      },
      "execution_count": 8,
      "outputs": []
    },
    {
      "cell_type": "code",
      "source": [
        "temp = Temperature(5)\n",
        "temp.fahrenheit = -500"
      ],
      "metadata": {
        "colab": {
          "base_uri": "https://localhost:8080/",
          "height": 287
        },
        "id": "NI8NvaphOhyX",
        "outputId": "740c5dc4-5c26-4759-9dad-bc86d14df86d"
      },
      "execution_count": 9,
      "outputs": [
        {
          "output_type": "error",
          "ename": "ValueError",
          "evalue": "ignored",
          "traceback": [
            "\u001b[0;31m---------------------------------------------------------------------------\u001b[0m",
            "\u001b[0;31mValueError\u001b[0m                                Traceback (most recent call last)",
            "\u001b[0;32m<ipython-input-9-a59047203345>\u001b[0m in \u001b[0;36m<module>\u001b[0;34m()\u001b[0m\n\u001b[1;32m      1\u001b[0m \u001b[0mtemp\u001b[0m \u001b[0;34m=\u001b[0m \u001b[0mTemperature\u001b[0m\u001b[0;34m(\u001b[0m\u001b[0;36m5\u001b[0m\u001b[0;34m)\u001b[0m\u001b[0;34m\u001b[0m\u001b[0;34m\u001b[0m\u001b[0m\n\u001b[0;32m----> 2\u001b[0;31m \u001b[0mtemp\u001b[0m\u001b[0;34m.\u001b[0m\u001b[0mfahrenheit\u001b[0m \u001b[0;34m=\u001b[0m \u001b[0;34m-\u001b[0m\u001b[0;36m500\u001b[0m\u001b[0;34m\u001b[0m\u001b[0;34m\u001b[0m\u001b[0m\n\u001b[0m",
            "\u001b[0;32m<ipython-input-8-7797d57b363e>\u001b[0m in \u001b[0;36mfahrenheit\u001b[0;34m(self, value)\u001b[0m\n\u001b[1;32m     10\u001b[0m   \u001b[0;32mdef\u001b[0m \u001b[0mfahrenheit\u001b[0m\u001b[0;34m(\u001b[0m\u001b[0mself\u001b[0m\u001b[0;34m,\u001b[0m \u001b[0mvalue\u001b[0m\u001b[0;34m)\u001b[0m\u001b[0;34m:\u001b[0m\u001b[0;34m\u001b[0m\u001b[0;34m\u001b[0m\u001b[0m\n\u001b[1;32m     11\u001b[0m     \u001b[0;32mif\u001b[0m \u001b[0;34m(\u001b[0m\u001b[0mvalue\u001b[0m \u001b[0;34m<\u001b[0m \u001b[0;34m-\u001b[0m\u001b[0;36m460\u001b[0m\u001b[0;34m)\u001b[0m\u001b[0;34m:\u001b[0m\u001b[0;34m\u001b[0m\u001b[0;34m\u001b[0m\u001b[0m\n\u001b[0;32m---> 12\u001b[0;31m       \u001b[0;32mraise\u001b[0m \u001b[0mValueError\u001b[0m\u001b[0;34m(\u001b[0m\u001b[0;34m'Temperatures less than -460F are not possible'\u001b[0m\u001b[0;34m)\u001b[0m\u001b[0;34m\u001b[0m\u001b[0;34m\u001b[0m\u001b[0m\n\u001b[0m\u001b[1;32m     13\u001b[0m     \u001b[0mself\u001b[0m\u001b[0;34m.\u001b[0m\u001b[0mcelsius\u001b[0m \u001b[0;34m=\u001b[0m \u001b[0;34m(\u001b[0m\u001b[0mvalue\u001b[0m \u001b[0;34m-\u001b[0m \u001b[0;36m32\u001b[0m\u001b[0;34m)\u001b[0m \u001b[0;34m*\u001b[0m \u001b[0;36m5\u001b[0m \u001b[0;34m/\u001b[0m \u001b[0;36m9\u001b[0m\u001b[0;34m\u001b[0m\u001b[0;34m\u001b[0m\u001b[0m\n",
            "\u001b[0;31mValueError\u001b[0m: Temperatures less than -460F are not possible"
          ]
        }
      ]
    },
    {
      "cell_type": "markdown",
      "source": [
        "### 4. Inheritance"
      ],
      "metadata": {
        "id": "eOTPzWwSOl6h"
      }
    },
    {
      "cell_type": "markdown",
      "source": [
        "Class inheritance allows attributes and methods to be passed from one class to another.\n",
        "For example, suppose there is already a class available in a Python package that does\n",
        "almost everything you want. However, you just wish it had one extra method or\n",
        "attribute that would make it right for your purpose. Instead of rewriting the entire class,\n",
        "you could inherit the class and add additional properties, or change existing properties."
      ],
      "metadata": {
        "id": "BDFMymiOO07L"
      }
    },
    {
      "cell_type": "code",
      "source": [
        "class Person():\n",
        "  def __init__(self, first_name, last_name):\n",
        "    self.first_name = first_name\n",
        "    self.last_name = last_name"
      ],
      "metadata": {
        "id": "tlUotFGqPBvN"
      },
      "execution_count": 10,
      "outputs": []
    },
    {
      "cell_type": "code",
      "source": [
        "class Baby(Person):\n",
        "  def speak(self):\n",
        "    print('Blah blah blah')\n",
        "\n",
        "class Adult(Person):\n",
        "  def speak(self):\n",
        "    print('Hello, my name is %s' % self.first_name) \n",
        "\n",
        "jess = Baby('Jessie', 'Mcdonald')\n",
        "tom = Adult('Thomas', 'Smith')\n",
        "jess.speak()\n",
        "tom.speak()"
      ],
      "metadata": {
        "colab": {
          "base_uri": "https://localhost:8080/"
        },
        "id": "OXAh2tgKP3g5",
        "outputId": "af93d2d6-c71c-436b-aca8-cadb10f6d882"
      },
      "execution_count": 12,
      "outputs": [
        {
          "output_type": "stream",
          "name": "stdout",
          "text": [
            "Blah blah blah\n",
            "Hello, my name is Thomas\n"
          ]
        }
      ]
    },
    {
      "cell_type": "markdown",
      "source": [
        "#### Overriding Methods"
      ],
      "metadata": {
        "id": "Jzw8NzQaQLkT"
      }
    },
    {
      "cell_type": "markdown",
      "source": [
        "When inheriting classes, you often do so in order to change the behavior of the class,\n",
        "not just to extend the behavior. The custom methods or attributes you create on a\n",
        "child class can be used to override the method or attribute that was inherited from the\n",
        "parent."
      ],
      "metadata": {
        "id": "XHqxs2R2Qakk"
      }
    },
    {
      "cell_type": "code",
      "source": [
        "# This class will error when have three or more names that make up the full name\n",
        "class Person():\n",
        "  def __init__(self, first_name, last_name):\n",
        "    self.first_name = first_name\n",
        "    self.last_name = last_name\n",
        "\n",
        "  @property\n",
        "  def full_name(self):\n",
        "    return '%s %s' % (self.first_name, self.last_name)\n",
        "\n",
        "  @full_name.setter\n",
        "  def full_name(self, name):\n",
        "    first, last = name.split(' ')\n",
        "    self.first_name = first\n",
        "    self.last_name = last"
      ],
      "metadata": {
        "id": "vxt27IUFQgTF"
      },
      "execution_count": 13,
      "outputs": []
    },
    {
      "cell_type": "code",
      "source": [
        "class BetterPerson(Person):\n",
        "\n",
        "  @property\n",
        "  def full_name(self):\n",
        "    return '%s %s' % (self.first_name, self.last_name)\n",
        "\n",
        "  @full_name.setter\n",
        "  def full_name(self, name):\n",
        "    names = name.split(' ')\n",
        "    self.first_name = names[0]\n",
        "    if len(names) > 2:\n",
        "      self.last_name = ' '.join(names[1:])\n",
        "    elif len(names) == 2:\n",
        "      self.last_name = names[1]\n",
        "\n",
        "character = BetterPerson('Chtholly', 'Seniorius')\n",
        "character.full_name = \"Chtholly Nota Seniorius\"\n",
        "character.last_name"
      ],
      "metadata": {
        "colab": {
          "base_uri": "https://localhost:8080/",
          "height": 35
        },
        "id": "SNiqbRksQyqA",
        "outputId": "5d04a06d-798a-4099-9e06-a4f339a1e8b0"
      },
      "execution_count": 14,
      "outputs": [
        {
          "output_type": "execute_result",
          "data": {
            "text/plain": [
              "'Nota Seniorius'"
            ],
            "application/vnd.google.colaboratory.intrinsic+json": {
              "type": "string"
            }
          },
          "metadata": {},
          "execution_count": 14
        }
      ]
    },
    {
      "cell_type": "markdown",
      "source": [
        "#### Calling the Parent method with super()"
      ],
      "metadata": {
        "id": "CurrEG_XRJyd"
      }
    },
    {
      "cell_type": "code",
      "source": [
        "class Person():\n",
        "  def __init__(self, first_name, last_name):\n",
        "    self.first_name = first_name\n",
        "    self.last_name = last_name\n",
        "  def speak(self):\n",
        "    print('Hello, my name is %s' % self.first_name)"
      ],
      "metadata": {
        "id": "sIEIf3U1SY-R"
      },
      "execution_count": 15,
      "outputs": []
    },
    {
      "cell_type": "code",
      "source": [
        "class TalkativePerson(Person):\n",
        "  def speak(self):\n",
        "    # prevent rewrite print('Hello, my name is %s' % self.first_name) by using\n",
        "    super().speak()\n",
        "    print('It is a pleasure to meet you!')\n",
        "\n",
        "john = TalkativePerson('John', 'Tomic')\n",
        "john.speak()"
      ],
      "metadata": {
        "colab": {
          "base_uri": "https://localhost:8080/"
        },
        "id": "q8L0pjYpSgez",
        "outputId": "019465cf-f787-4648-e14f-5dc441c6fadc"
      },
      "execution_count": 16,
      "outputs": [
        {
          "output_type": "stream",
          "name": "stdout",
          "text": [
            "Hello, my name is John\n",
            "It is a pleasure to meet you!\n"
          ]
        }
      ]
    },
    {
      "cell_type": "markdown",
      "source": [
        "#### Multple Inheritance"
      ],
      "metadata": {
        "id": "WsQJQ5smSto5"
      }
    },
    {
      "cell_type": "markdown",
      "source": [
        "You often think of inheritance as allowing us to reuse common methods and attributes\n",
        "between related child classes. For example, a typical class structure could look like this\n",
        "\n",
        "![image.png](data:image/png;base64,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)\n",
        "\n",
        "Each child class is inheriting from a single parent class, Person.\n",
        "However, it's also possible to inherit from more than one parent class. Often, there\n",
        "are elements of multiple classes that you want to combine to create a new class.\n",
        "For example, you might combine an Adult class with a Calendar class to make an\n",
        "OrganizedAdult class:\n",
        "\n",
        "![image.png](data:image/png;base64,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)"
      ],
      "metadata": {
        "id": "8U_q0RccTFE2"
      }
    },
    {
      "cell_type": "code",
      "source": [
        "class Dog():\n",
        "  def make_sound(self):\n",
        "    print('Woof!')\n",
        "\n",
        "class Cat():\n",
        "  def make_sound(self):\n",
        "    print('Miaw!')\n",
        "\n",
        "class DogCat(Dog, Cat):\n",
        "  pass"
      ],
      "metadata": {
        "id": "8SOfU5ATTG2D"
      },
      "execution_count": 17,
      "outputs": []
    },
    {
      "cell_type": "markdown",
      "source": [
        "#### Method Resolution Order"
      ],
      "metadata": {
        "id": "BdX1NnJ5TiIr"
      }
    },
    {
      "cell_type": "markdown",
      "source": [
        "If a class has two or more parent classes which have same method **the first one** will be using when you call method from parent class. This work the same for calling super() method."
      ],
      "metadata": {
        "id": "koo3qjUoT3Gn"
      }
    },
    {
      "cell_type": "code",
      "source": [
        "my_pet = DogCat()\n",
        "my_pet.make_sound()"
      ],
      "metadata": {
        "colab": {
          "base_uri": "https://localhost:8080/"
        },
        "id": "o1I1YEpNTn0M",
        "outputId": "67b68ef3-8977-4895-f7a1-4cc07985ac8f"
      },
      "execution_count": 18,
      "outputs": [
        {
          "output_type": "stream",
          "name": "stdout",
          "text": [
            "Woof!\n"
          ]
        }
      ]
    }
  ]
}